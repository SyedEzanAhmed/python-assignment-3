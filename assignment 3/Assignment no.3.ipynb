{
 "cells": [
  {
   "cell_type": "code",
   "execution_count": 2,
   "id": "b9fb49ca",
   "metadata": {},
   "outputs": [
    {
     "name": "stdout",
     "output_type": "stream",
     "text": [
      "Twinkle, twinkle, little star,\n",
      "\tHow I wonder what you are!\n",
      "\t\tUp above the world so high,\n",
      "\t\tLike a diamond in the sky.\n",
      "Twinkle, twinkle, little star,\n",
      "\tHow I wonder what you are\n",
      "\n"
     ]
    }
   ],
   "source": [
    "\"\"\"1. Write a Python program to print the following string in a specific format (see the\n",
    "output).\"\"\"\n",
    "\n",
    "print(\"Twinkle, twinkle, little star,\\n\\t\"\n",
    "\"How I wonder what you are!\\n\\t\\t\"\n",
    "\"Up above the world so high,\\n\\t\\t\"\n",
    "\"Like a diamond in the sky.\\n\"\n",
    "\"Twinkle, twinkle, little star,\\n\\t\"\n",
    "\"How I wonder what you are\\n\")"
   ]
  },
  {
   "cell_type": "code",
   "execution_count": 3,
   "id": "8e762222",
   "metadata": {},
   "outputs": [
    {
     "name": "stdout",
     "output_type": "stream",
     "text": [
      "3.8.8 (default, Apr 13 2021, 15:08:07) [MSC v.1916 32 bit (Intel)]\n"
     ]
    }
   ],
   "source": [
    "#2. Write a Python program to get the Python version you are using\n",
    "\n",
    "import sys\n",
    "print(sys.version);"
   ]
  },
  {
   "cell_type": "code",
   "execution_count": 4,
   "id": "3d0815a8",
   "metadata": {},
   "outputs": [
    {
     "name": "stdout",
     "output_type": "stream",
     "text": [
      "Current Date : 24-10-2021\n",
      "Current Time : 16:00:14\n"
     ]
    }
   ],
   "source": [
    "#3. Write a Python program to display the current date and time.\n",
    "\n",
    "import datetime;\n",
    "now = datetime.datetime.now();\n",
    "print (\"Current Date : \" + now.strftime(\"%d-%m-%Y\") + \"\\nCurrent Time : \" + now.strftime(\"%H:%M:%S\"));"
   ]
  },
  {
   "cell_type": "code",
   "execution_count": 5,
   "id": "eaf71631",
   "metadata": {},
   "outputs": [
    {
     "name": "stdout",
     "output_type": "stream",
     "text": [
      "Radius of Circle = 8\n",
      "Area of Circle = 201.06192982974676\n"
     ]
    }
   ],
   "source": [
    "\"\"\"4. Write a Python program which accepts the radius of a circle from the user and compute\n",
    "the area.\"\"\"\n",
    "\n",
    "import math;\n",
    "r= input(\"Radius of Circle = \");\n",
    "A = math.pi * int(r)**2;\n",
    "print (\"Area of Circle = \" + str(A));"
   ]
  },
  {
   "cell_type": "code",
   "execution_count": 6,
   "id": "6c3b8e37",
   "metadata": {},
   "outputs": [
    {
     "name": "stdout",
     "output_type": "stream",
     "text": [
      "Insert your First Name : Ezan\n",
      "Insert your Last Name : Ahmed\n",
      "Hello Ahmed Ezan\n"
     ]
    }
   ],
   "source": [
    "\"\"\"5. Write a Python program which accepts the user's first and last name and print them in\n",
    "reverse order with a space between them.\"\"\"\n",
    "\n",
    "name1 = input (\"Insert your First Name : \");\n",
    "name2 = input (\"Insert your Last Name : \");\n",
    "print (\"Hello \" + name2+\" \" +name1);"
   ]
  },
  {
   "cell_type": "code",
   "execution_count": 7,
   "id": "3b09f3ea",
   "metadata": {},
   "outputs": [
    {
     "name": "stdout",
     "output_type": "stream",
     "text": [
      "First Number = 8\n",
      "Second Number = 7\n",
      "Sum : 15\n"
     ]
    }
   ],
   "source": [
    "#6. Write a python program which takes two inputs from user and print them addition\n",
    "\n",
    "a = input(\"First Number = \");\n",
    "b = input(\"Second Number = \");\n",
    "c = int(a) + int(b);\n",
    "print(\"Sum : \" + str(c));"
   ]
  },
  {
   "cell_type": "code",
   "execution_count": 8,
   "id": "4e53889c",
   "metadata": {},
   "outputs": [
    {
     "name": "stdout",
     "output_type": "stream",
     "text": [
      "Insert English Marks = 70\n",
      "Insert Islamiat Marks = 85\n",
      "Insert Mathematics Marks = 90\n",
      "Insert Science Marks = 40\n",
      "Insert Urdu Marks = 55\n",
      "Your Percentage is : 68.0%\n",
      "grade B\n"
     ]
    }
   ],
   "source": [
    "\"\"\"7. Write a program which takes 5 inputs from user for different subject’s marks, total it\n",
    "and generate mark sheet using grades ?\"\"\"\n",
    "\n",
    "English = int(input(\"Insert English Marks = \"));\n",
    "Islamiat = int(input(\"Insert Islamiat Marks = \"));\n",
    "Math = int(input(\"Insert Mathematics Marks = \"));\n",
    "Science = int(input(\"Insert Science Marks = \"));\n",
    "Urdu = int(input(\"Insert Urdu Marks = \"));\n",
    "total = English + Islamiat + Math + Science + Urdu;\n",
    "per = (total*100)/500;\n",
    "print(\"Your Percentage is : \" + str(per) + \"%\");\n",
    "if per > 100 and per < 0 :\n",
    "   print(\"wrong input\");\n",
    "elif per < 100 and per > 80:\n",
    "   print(\"grade A+\");\n",
    "elif per > 70 and per < 80:\n",
    "  print(\"grade A\");\n",
    "elif per > 60 and per < 70:\n",
    "  print(\"grade B\");\n",
    "elif per > 50 and per < 60:\n",
    "  print(\"grade C\");\n",
    "elif per > 40 and per < 50:\n",
    "  print(\"grade D\");\n",
    "elif per > 33 and per < 40:\n",
    "  print(\"grade E\");\n",
    "else:\n",
    "  print(\"failed\");"
   ]
  },
  {
   "cell_type": "code",
   "execution_count": 10,
   "id": "5e58a83e",
   "metadata": {},
   "outputs": [
    {
     "name": "stdout",
     "output_type": "stream",
     "text": [
      "Enter a number: 9\n",
      "This is an odd number.\n"
     ]
    }
   ],
   "source": [
    "\"\"\"8. Write a program which take input from user and identify that the given number is even\n",
    "or odd?\"\"\"\n",
    "\n",
    "a = int(input(\"Enter a number: \"));\n",
    "mod = a % 2;\n",
    "if mod > 0:\n",
    "    print(\"This is an odd number.\");\n",
    "else:\n",
    "    print(\"This is an even number.\");"
   ]
  },
  {
   "cell_type": "code",
   "execution_count": 11,
   "id": "8ca0e14b",
   "metadata": {},
   "outputs": [
    {
     "name": "stdout",
     "output_type": "stream",
     "text": [
      "['ali', 'fahad', 'raza', 'javed', 'zain', 'noman', 'shahzaib', 'nadeem']\n",
      "No. of Names in List is 8\n"
     ]
    }
   ],
   "source": [
    "#9. Write a program which print the length of the list?\n",
    "\n",
    "names = [ \"ali\" , \"fahad\" , \"raza\" , \"javed\" , \"zain\" , \"noman\" , \"shahzaib\" , \"nadeem\"];\n",
    "print(names);\n",
    "print (\"No. of Names in List is \" + str(len(names)));"
   ]
  },
  {
   "cell_type": "code",
   "execution_count": 1,
   "id": "db524363",
   "metadata": {},
   "outputs": [
    {
     "name": "stdout",
     "output_type": "stream",
     "text": [
      "How many numbers: 8\n",
      "Enter number 12\n",
      "Enter number 9\n",
      "Enter number 10\n",
      "Enter number 24\n",
      "Enter number 32\n",
      "Enter number 1\n",
      "Enter number 14\n",
      "Enter number 19\n",
      "Sum of elements in given list is :\n"
     ]
    },
    {
     "data": {
      "text/plain": [
       "121"
      ]
     },
     "execution_count": 1,
     "metadata": {},
     "output_type": "execute_result"
    }
   ],
   "source": [
    "#10. Write a Python program to sum all the numeric items in a list?\n",
    "\n",
    "lst = []\n",
    "num = int(input('How many numbers: '))\n",
    "for n in range(num):\n",
    "    numbers = int(input('Enter number '))\n",
    "    lst.append(numbers)\n",
    "print(\"Sum of elements in given list is :\")\n",
    "sum(lst)"
   ]
  },
  {
   "cell_type": "code",
   "execution_count": 2,
   "id": "7ed2991d",
   "metadata": {},
   "outputs": [
    {
     "name": "stdout",
     "output_type": "stream",
     "text": [
      "The Largest element of the list:  845\n"
     ]
    }
   ],
   "source": [
    "#11.Write a Python program to get the largest number from a numeric list.\n",
    "\n",
    "list1 = [32,54,20,35,845,64,56,34,65]\n",
    "list1.sort()\n",
    "print(\"The Largest element of the list: \",list1[-1])"
   ]
  },
  {
   "cell_type": "code",
   "execution_count": 3,
   "id": "24de87fb",
   "metadata": {},
   "outputs": [
    {
     "name": "stdout",
     "output_type": "stream",
     "text": [
      "[1]\n",
      "[1, 1]\n",
      "[1, 1, 2]\n",
      "[1, 1, 2, 3]\n"
     ]
    }
   ],
   "source": [
    "\"\"\"12. Take a list, say for example this one:\n",
    "a = [1, 1, 2, 3, 5, 8, 13, 21, 34, 55, 89]\n",
    "Write a program that prints out all the elements of the list that are less than 5.\"\"\"\n",
    "\n",
    "a = [1, 1, 2, 3, 5, 8, 13, 21, 34, 55, 89]\n",
    "new_items = []\n",
    "for item in a:\n",
    "    if item < 5:\n",
    "        new_items.append(item)\n",
    "        print(new_items)"
   ]
  },
  {
   "cell_type": "code",
   "execution_count": null,
   "id": "84dd75b7",
   "metadata": {},
   "outputs": [],
   "source": []
  }
 ],
 "metadata": {
  "kernelspec": {
   "display_name": "Python 3",
   "language": "python",
   "name": "python3"
  },
  "language_info": {
   "codemirror_mode": {
    "name": "ipython",
    "version": 3
   },
   "file_extension": ".py",
   "mimetype": "text/x-python",
   "name": "python",
   "nbconvert_exporter": "python",
   "pygments_lexer": "ipython3",
   "version": "3.8.8"
  }
 },
 "nbformat": 4,
 "nbformat_minor": 5
}
